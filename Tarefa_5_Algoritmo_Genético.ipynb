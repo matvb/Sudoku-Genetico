{
  "nbformat": 4,
  "nbformat_minor": 0,
  "metadata": {
    "colab": {
      "name": "Tarefa 5 - Algoritmo Genético.ipynb",
      "provenance": [],
      "collapsed_sections": [
        "kbqIewAdkaxv",
        "aAvSABFYmNxA",
        "ct0yCZINyjRf"
      ],
      "authorship_tag": "ABX9TyPfOO8aJX9tnrbzwkNXqCWa",
      "include_colab_link": true
    },
    "kernelspec": {
      "name": "python3",
      "display_name": "Python 3"
    }
  },
  "cells": [
    {
      "cell_type": "markdown",
      "metadata": {
        "id": "view-in-github",
        "colab_type": "text"
      },
      "source": [
        "<a href=\"https://colab.research.google.com/github/matvb/Sudoku-Genetico/blob/main/Tarefa_5_Algoritmo_Gen%C3%A9tico.ipynb\" target=\"_parent\"><img src=\"https://colab.research.google.com/assets/colab-badge.svg\" alt=\"Open In Colab\"/></a>"
      ]
    },
    {
      "cell_type": "markdown",
      "metadata": {
        "id": "6pdQ3fqZId5J"
      },
      "source": [
        "# Inteligência Artifical\n",
        "## Tarefa 5 - Algoritmo Genético\n",
        "### Mateus de Almeida Villas Boas\n",
        "### DRE: 115054675\n",
        "\n"
      ]
    },
    {
      "cell_type": "markdown",
      "metadata": {
        "id": "kbqIewAdkaxv"
      },
      "source": [
        "## Imports"
      ]
    },
    {
      "cell_type": "code",
      "metadata": {
        "id": "ZdEfOmQ_JV6o"
      },
      "source": [
        "import numpy as np\n",
        "import random\n",
        "import math"
      ],
      "execution_count": 2,
      "outputs": []
    },
    {
      "cell_type": "markdown",
      "metadata": {
        "id": "B69Pz4bWUQst"
      },
      "source": [
        "## Implementação do Algoritmo Genético\n"
      ]
    },
    {
      "cell_type": "markdown",
      "metadata": {
        "id": "aAvSABFYmNxA"
      },
      "source": [
        "### Preenchendo a matriz real do problema (9x9)\n"
      ]
    },
    {
      "cell_type": "markdown",
      "metadata": {
        "id": "juI5KJqMmaGk"
      },
      "source": [
        "Esta é a matriz do problema o qual é preciso achar a solução.\n",
        "<br>\n",
        "<br>\n",
        "Como ela é uma matriz específica, com tamanho e preenchimento inicial definidos, decidi fazer a instanciação inicial dela de maneira hard-coded.\n",
        "<br>\n",
        "<br>\n",
        "tam_tabuleiro -> Decide o tamanho dos lados da matriz\n",
        "np.zeros((tam_tabuleiro,tam_tabuleiro)) -> Cria a matriz de zeros quadrada de lado tam_tabuleiro\n",
        "<br>\n",
        "<br>\n",
        "Depois da função preenche_fixos, todos os campos \"vazios\" estarão preenchidos com zero, sinalizando para as próximas funções onde poderão ser alocados os números variáveis. E os já preenchidos nessa função serão fixos até o término do programa.\n",
        "\n",
        "\n",
        "\n",
        "<div>\n",
        "<img src=\"https://drive.google.com/thumbnail?id=1yezhTg1ErTEjZgBPnpy4E5nGTg39xt9i&authuser=0&sz=w1423-h789\" width=\"300\"/>\n",
        "</div>\n",
        "\n"
      ]
    },
    {
      "cell_type": "code",
      "metadata": {
        "id": "P4ohu-1Xnbnb"
      },
      "source": [
        "tam_tabuleiro = 9\n",
        "tabuleiro = np.zeros((tam_tabuleiro,tam_tabuleiro))\n",
        "tabuleiro_original = np.copy(tabuleiro)\n",
        "\n",
        "def preenche_fixos(tab):\n",
        "  tab[0][3] = 7\n",
        "  tab[1][0] = 1\n",
        "  tab[2][3] = 4\n",
        "  tab[2][4] = 3\n",
        "  tab[2][6] = 2\n",
        "  tab[3][8] = 6\n",
        "  tab[4][3] = 5\n",
        "  tab[4][5] = 9\n",
        "  tab[5][6] = 4\n",
        "  tab[5][7] = 1\n",
        "  tab[5][8] = 8\n",
        "  tab[6][4] = 8\n",
        "  tab[6][5] = 1\n",
        "  tab[7][3] = 2\n",
        "  tab[7][7] = 5\n",
        "  tab[8][1] = 4\n",
        "  tab[8][6] = 3\n",
        "\n",
        "  num_variaveis = (tab == 0).sum()\n",
        "\n",
        "  return tab, num_variaveis"
      ],
      "execution_count": 25,
      "outputs": []
    },
    {
      "cell_type": "markdown",
      "metadata": {
        "id": "ct0yCZINyjRf"
      },
      "source": [
        "### Preenchendo uma matriz teste (4X4)\n",
        "\n",
        "\n"
      ]
    },
    {
      "cell_type": "markdown",
      "metadata": {
        "id": "H_hHsRuvziXm"
      },
      "source": [
        "Esta é uma matriz teste consideravelmente mais fácil de se trabalhar e achar a solução do que a matriz real do problema\n",
        "<br>\n",
        "<br>\n",
        "Toda a função de preenchimento é igual exceto pelos valores fixos e pelo valor de tam_tabuleiro\n",
        "\n",
        "\n",
        "![matriz_teste.PNG](data:image/png;base64,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)\n",
        "\n",
        "Matriz exemplo tirada do exercício 1 da lista de exercícios da semana 6\n"
      ]
    },
    {
      "cell_type": "code",
      "metadata": {
        "id": "j0vUBhMtzdoy"
      },
      "source": [
        "tam_tabuleiro = 4\n",
        "tabuleiro = np.zeros((tam_tabuleiro,tam_tabuleiro))\n",
        "tabuleiro_original = np.copy(tabuleiro)\n",
        "\n",
        "def preenche_fixos(tab):\n",
        "  tab[0][0] = 3\n",
        "  tab[1][1] = 1\n",
        "  tab[2][0] = 1\n",
        "  tab[2][1] = 2\n",
        "  tab[1][2] = 4\n",
        "  tab[0][3] = 2\n",
        "  tab[2][3] = 4\n",
        "  tab[3][2] = 2\n",
        "  tab[3][3] = 1\n",
        "\n",
        "  num_variaveis = (tab == 0).sum()\n",
        "\n",
        "  return tab, num_variaveis"
      ],
      "execution_count": 14,
      "outputs": []
    },
    {
      "cell_type": "markdown",
      "metadata": {
        "id": "nH-300gEnh0b"
      },
      "source": [
        "### Criando tabuleiro campos iniciais com números escolhidos aleatoriamente no intervalo de números possíveis (de 1 até tam_tabuleiro)\n",
        "\n"
      ]
    },
    {
      "cell_type": "markdown",
      "metadata": {
        "id": "R8kRZupyyUYn"
      },
      "source": [
        "<br>\n",
        "Todos os campos considerados vazios (campos com valor 0), são preenchidos agora por um numero aleatório dentre os possíveis de acordo com o tamanho do Sudoku (entre 1 e tam_tabuleiro).\n",
        "<br>\n",
        "<br>\n",
        "Todas as coordenadas preenchidas nesse processo são guardadas na lista \"variáveis\", pois serão elas as variáveis da função.\n",
        "<br>\n",
        "<br>\n",
        "Somente os campos correspondentes as coordenadas gravadas nessa lista poderão ser mudadas no processo de Hill Climbing, fazendo com os números que foram preenchidos anteriormente permanecam fixos."
      ]
    },
    {
      "cell_type": "code",
      "metadata": {
        "id": "oUskIHrtp6Tz"
      },
      "source": [
        "def preenche_iniciais(tab):\n",
        "  variaveis_coord = []\n",
        "  variaveis = []\n",
        "  for i,row in enumerate(tab):\n",
        "    for j,value in enumerate(row):\n",
        "      if value == 0:\n",
        "        num_rand = random.randint(1, tam_tabuleiro)\n",
        "        tab[i][j] = num_rand\n",
        "        variaveis_coord.append((i,j))\n",
        "        variaveis.append(num_rand)\n",
        "\n",
        "  return tab, variaveis"
      ],
      "execution_count": null,
      "outputs": []
    },
    {
      "cell_type": "markdown",
      "metadata": {
        "id": "jroHARQH5GPB"
      },
      "source": [
        "### Contrução da população inicial\n",
        "N = Número de individuos da população\n",
        "<br>\n",
        "Retorno: Um conjunto de N indivíduos gerados aleatoriamente que correspondem a configurações do tabuleiro."
      ]
    },
    {
      "cell_type": "code",
      "metadata": {
        "id": "tUhhZ-FQ5ZzR"
      },
      "source": [
        "def pop_inicial(N, num_variaveis):\n",
        "  pop_init = []\n",
        "  \n",
        "  for i in range(N):\n",
        "    aux = []\n",
        "    for j in range(num_variaveis):\n",
        "      num_rand = random.randint(1, tam_tabuleiro)\n",
        "      aux.append(num_rand)\n",
        "    pop_init.append(aux)\n",
        "\n",
        "  return pop_init\n",
        "\n"
      ],
      "execution_count": 4,
      "outputs": []
    },
    {
      "cell_type": "markdown",
      "metadata": {
        "id": "8C4YKOj9-JhW"
      },
      "source": [
        "### Função objetivo"
      ]
    },
    {
      "cell_type": "markdown",
      "metadata": {
        "id": "-4EmRhHr-Oxs"
      },
      "source": [
        "<br>\n",
        "O valor retornado pela função objetivo é o número de casas erradas no tabuleiro. É uma função de minimização visto que o objetivo final é ter um tabuleiro em que a quantidade de casas erradas seja 0.\n",
        "<br>\n",
        "<br>\n",
        "A função acha esse número percorrendo o tabuleiro e cada vez que um número se repete em uma mesma linha, coluna ou bloco é somado 1.\n",
        "<br>\n",
        "<br>\n",
        "Se uma linha tiver três casas com o número 5 e duas casas com o número 7. A função somará 3 ao total. Porque existem dois número 5 errados e um número 7 errado nesta fileira.\n",
        "<br>\n",
        "<br>\n",
        "Faz-se a mesma coisa para todas as fileiras, colunas e blocos e tem-se o valor total da função que é retornado.\n",
        "\n"
      ]
    },
    {
      "cell_type": "code",
      "metadata": {
        "id": "vOfURBLv-RoJ"
      },
      "source": [
        "def interpreta_como_tabuleiro(tab_orig, list_variaveis_orig):\n",
        "  tab = np.copy(tab_orig)\n",
        "  list_variaveis = list_variaveis_orig.copy()\n",
        "  for i,row in enumerate(tab):\n",
        "    for j,value in enumerate(row):\n",
        "      if value == 0:\n",
        "        tab[i][j] = list_variaveis[0]\n",
        "        list_variaveis.pop(0)\n",
        "\n",
        "  return tab\n",
        "\n",
        "def objetivo(tab_orig, list_variaveis):\n",
        "  tab = interpreta_como_tabuleiro(tab_orig, list_variaveis)\n",
        "\n",
        "  soma_col = 0\n",
        "  soma_row = 0\n",
        "  soma_bloco = 0\n",
        "  ja_computados =[]\n",
        "\n",
        "  # Calcula o somatório da diferença da soma de cada linha e coluna em relação a soma certa.\n",
        "  for i, row in enumerate(tab):\n",
        "    aux_row = 0\n",
        "    aux_col = 0\n",
        "    aux_row2 = []\n",
        "    aux_col2 = []\n",
        "\n",
        "    for j, value in enumerate(row):\n",
        "      if (value in aux_row2) and ((i,j) not in ja_computados):\n",
        "        ja_computados.append((i,j))\n",
        "        aux_row += 1\n",
        "      aux_row2.append(value)\n",
        "      if (tab[j][i] in aux_col2) and ((i,j) not in ja_computados):\n",
        "        ja_computados.append((j,i))\n",
        "        aux_col += 1\n",
        "      aux_col2.append(tab[j][i])\n",
        "\n",
        "    soma_row += aux_row\n",
        "    soma_col += aux_col\n",
        "\n",
        "  # Calcula o somatório da diferença da soma de cada bloco interno em relação a soma certa.\n",
        "  tam_bloco = int(math.sqrt(tam_tabuleiro))\n",
        "  quant_blocos = (tam_tabuleiro**2)/(tam_bloco**2)\n",
        "  for bloco1 in range(tam_bloco):\n",
        "    for bloco2 in range(tam_bloco):\n",
        "      aux_bloco = 0\n",
        "      aux_bloco2 = []\n",
        "      for i in range(tam_bloco):\n",
        "        for j in range(tam_bloco):\n",
        "          if (tab[i+(tam_bloco*bloco1)][j+(tam_bloco*bloco2)] in aux_bloco2) and ((i,j) not in ja_computados):\n",
        "            ja_computados.append((j,i))\n",
        "            aux_bloco += 1\n",
        "          aux_bloco2.append(tab[i+(tam_bloco*bloco1)][j+(tam_bloco*bloco2)])\n",
        "\n",
        "      soma_bloco += aux_bloco\n",
        "\n",
        "  # Soma os calculos anterios para linhas, colunas e blocos para ter o valor da função para o tabuleiro todo.\n",
        "  \n",
        "  soma_total = soma_row + soma_col + soma_bloco\n",
        "  soma_total_invert = (tam_tabuleiro*tam_tabuleiro) - soma_total\n",
        "  return soma_total_invert"
      ],
      "execution_count": 5,
      "outputs": []
    },
    {
      "cell_type": "markdown",
      "metadata": {
        "id": "xMwAXFMz9mjy"
      },
      "source": [
        "### Função Roleta\n"
      ]
    },
    {
      "cell_type": "code",
      "metadata": {
        "id": "v1OUrnpUIPKm"
      },
      "source": [
        "def calc_roleta(valores_objetivo):\n",
        "  roleta = []\n",
        "  for index, i  in enumerate(valores_objetivo):\n",
        "    if index == 0:\n",
        "      roleta.append(i)\n",
        "    else:\n",
        "      roleta.append(roleta[-1]+i)\n",
        "\n",
        "  return roleta"
      ],
      "execution_count": 6,
      "outputs": []
    },
    {
      "cell_type": "markdown",
      "metadata": {
        "id": "b_3L5BWIUEan"
      },
      "source": [
        "#### População intermediária"
      ]
    },
    {
      "cell_type": "code",
      "metadata": {
        "id": "jW-ZXWuuUHN_"
      },
      "source": [
        "def pop_intermediaria(pop_init):\n",
        "  pop_intermed = []\n",
        "\n",
        "  valores_objetivo = []\n",
        "  for i in pop_init:\n",
        "    valores_objetivo.append(objetivo(tabuleiro, i))\n",
        "\n",
        "  roleta = calc_roleta(valores_objetivo)\n",
        "  print(\"Roleta: \\n\", roleta, \"\\n\")\n",
        "\n",
        "  valores_sorteados = []\n",
        "  for i in range(len(pop_init)):\n",
        "    sorteio = random.uniform(0,roleta[-1])\n",
        "    valores_sorteados.append(sorteio)\n",
        "  print(\"Valores Sorteados: \\n\", valores_sorteados, \"\\n\")\n",
        "\n",
        "  for index_i, valor_sorteado in enumerate(valores_sorteados):\n",
        "    for index_j, j in enumerate(roleta):\n",
        "      if valor_sorteado <= j:\n",
        "        pop_intermed.append(pop_init[index_j])\n",
        "        break\n",
        "\n",
        "  return pop_intermed"
      ],
      "execution_count": 7,
      "outputs": []
    },
    {
      "cell_type": "markdown",
      "metadata": {
        "id": "XbCxq8dObVis"
      },
      "source": [
        "### CrossOver"
      ]
    },
    {
      "cell_type": "code",
      "metadata": {
        "id": "1Y9fng2MbY6k"
      },
      "source": [
        "def crossover(elemento1, elemento2, quant_cortes):\n",
        "  tam_elemento = len(elemento1)\n",
        "  novo1 = []\n",
        "  novo2 = []\n",
        "\n",
        "  cortes = []\n",
        "  for i in range(quant_cortes):\n",
        "    corte = random.randint(1,tam_elemento-1)\n",
        "    while corte in cortes:\n",
        "      corte = random.randint(1,tam_elemento-1)\n",
        "    cortes.append(corte)\n",
        "\n",
        "  cortes.sort()\n",
        "  cortes.append('fim')\n",
        "\n",
        "\n",
        "  print(\"cortes\", cortes)\n",
        "  for index_i, i in enumerate(cortes):\n",
        "    for j in range(tam_elemento):  \n",
        "      if i != \"fim\":    \n",
        "        if (j < i):\n",
        "          if (j+1 > len(novo1)):\n",
        "            if (index_i % 2) == 0:\n",
        "              novo1.append(elemento1[j])\n",
        "              novo2.append(elemento2[j])\n",
        "            else:\n",
        "              novo1.append(elemento2[j])\n",
        "              novo2.append(elemento1[j])\n",
        "        else:\n",
        "          break\n",
        "\n",
        "      else:\n",
        "        if (j+1 > len(novo1)):\n",
        "          if (index_i % 2) == 0:\n",
        "            novo1.append(elemento1[j])\n",
        "            novo2.append(elemento2[j])\n",
        "          else:\n",
        "            novo1.append(elemento2[j])\n",
        "            novo2.append(elemento1[j])\n",
        "\n",
        "  \n",
        "  return novo1, novo2\n",
        "\n"
      ],
      "execution_count": 8,
      "outputs": []
    },
    {
      "cell_type": "markdown",
      "metadata": {
        "id": "vulqx-5P4qs7"
      },
      "source": [
        "### Mutação"
      ]
    },
    {
      "cell_type": "code",
      "metadata": {
        "id": "xlSwVkrX4tgn"
      },
      "source": [
        "def mutacao(individuo, quant_genes):\n",
        "  novo_individuo = list(individuo)\n",
        "  index_genes_mutados = []\n",
        "  for i in range(quant_genes):\n",
        "    index = random.randint(0,len(individuo)-1)\n",
        "    while index in index_genes_mutados:\n",
        "      index = random.randint(0,len(individuo)-1)\n",
        "\n",
        "    index_genes_mutados.append(index)\n",
        "\n",
        "  print(\"Genes mutados:\", index_genes_mutados)\n",
        "\n",
        "  for i in index_genes_mutados:\n",
        "    aux = individuo[i]\n",
        "    novo_valor = random.randint(1,tam_tabuleiro)\n",
        "    while novo_valor == aux:\n",
        "      novo_valor = random.randint(1,tam_tabuleiro)\n",
        "    \n",
        "    novo_individuo[i] = novo_valor\n",
        "\n",
        "\n",
        "  return novo_individuo\n",
        "    \n"
      ],
      "execution_count": 9,
      "outputs": []
    },
    {
      "cell_type": "markdown",
      "metadata": {
        "id": "tvekzxq1y3Nb"
      },
      "source": [
        "### Função Principal"
      ]
    },
    {
      "cell_type": "code",
      "metadata": {
        "id": "MUAdCJEVy6ur"
      },
      "source": [
        "# Parâmetros para colorir e formatar o print dos textos\n",
        "CBOLD     = '\\33[1m'\n",
        "CRED = '\\033[91m'\n",
        "CGREEN  = '\\33[92m'\n",
        "CBLUE   = '\\33[34m'\n",
        "CEND = '\\033[0m'\n",
        "\n",
        "def parametros_fixos(letra):\n",
        "  if letra == 'a':\n",
        "    N = 100\n",
        "    prob_crossover = 0.80\n",
        "    pts_crossover = 1\n",
        "    prob_mutacao = 0.03\n",
        "    genes_mutados = 2\n",
        "    num_geracoes = 100\n",
        "  elif letra == 'b':\n",
        "    N = 100\n",
        "    prob_crossover = 0.80\n",
        "    pts_crossover = 3\n",
        "    prob_mutacao = 0.03\n",
        "    genes_mutados = 2\n",
        "    num_geracoes = 100\n",
        "  elif letra == 'c':\n",
        "    N = 100\n",
        "    prob_crossover = 0.80\n",
        "    pts_crossover = 3\n",
        "    prob_mutacao = 0.15\n",
        "    genes_mutados = 2\n",
        "    num_geracoes = 100\n",
        "\n",
        "  return N, prob_crossover, pts_crossover, prob_mutacao, genes_mutados, num_geracoes\n",
        "\n",
        "def main():\n",
        "  # Probabilidades e valores fixos\n",
        "  N, prob_crossover, pts_crossover, prob_mutacao, genes_mutados, num_geracoes = parametros_fixos(\"a\")\n",
        "\n",
        "  \n",
        "  # Instancia o tabuleiro inicial apenas com os valores fixos preenchidos e determina a quantidade de variaveis possiveis\n",
        "  global tabuleiro\n",
        "  tabuleiro, num_variaveis = preenche_fixos(tabuleiro)\n",
        "  print(\"Tabuleiro inicial: \\n\",tabuleiro, \"\\n\")\n",
        "  print(\"Número de variáveis:\",num_variaveis, \"\\n\")\n",
        "\n",
        "  # Define o numero N de elementos que uma população inicial deve ter e a cria\n",
        "  pop_init = pop_inicial(N, num_variaveis)\n",
        "  print(\"População inicial: \\n\", pop_init, \"\\n\")\n",
        "\n",
        "  i = 0\n",
        "\n",
        "  pop_testada = pop_init\n",
        "  for i in range(num_geracoes):\n",
        "    print(CBOLD,CBLUE,\"Geração:\", i+1,CEND, \"\\n\")\n",
        "\n",
        "\n",
        "    pop_intermed = pop_intermediaria(pop_testada)\n",
        "    print(\"População intermediária: \\n\", pop_intermed, \"\\n\")\n",
        "\n",
        "    pop_aux = list(pop_intermed)\n",
        "    pop_crossover = []\n",
        "    while len(pop_aux) != 0:\n",
        "      element1_cross = random.choice(pop_aux)\n",
        "      pop_aux.remove(element1_cross)\n",
        "      element2_cross = random.choice(pop_aux)\n",
        "      pop_aux.remove(element2_cross)\n",
        "\n",
        "      # Testa chance e faz o CrossOver se passar\n",
        "      if random.random() <= prob_crossover:\n",
        "        #print(CBOLD,CGREEN,\"FAZENDO CROSSOVER\",CEND, \"\\n\")\n",
        "        element1_novo, element2_novo = crossover(element1_cross, element2_cross, pts_crossover)\n",
        "      else:\n",
        "        #print(CBOLD,CRED,\"NÂO FAZENDO CROSSOVER\",CEND, \"\\n\")\n",
        "        element1_novo = element1_cross\n",
        "        element2_novo = element2_cross\n",
        "\n",
        "      pop_crossover.append(element1_novo)\n",
        "      pop_crossover.append(element2_novo)\n",
        "    \n",
        "\n",
        "    print(\"População depois do CrossOver: \\n\", pop_crossover, \"\\n\")\n",
        "\n",
        "    pop_mutacao = []\n",
        "\n",
        "    for elemento in pop_crossover:\n",
        "      if random.random() <= prob_mutacao:\n",
        "        #print(CBOLD,CGREEN,\"FAZENDO MUTAÇÂO\",CEND, \"\\n\")\n",
        "        element_novo = mutacao(elemento,genes_mutados)\n",
        "      else:\n",
        "        #print(CBOLD,CRED,\"NÂO FAZENDO MUTAÇÂO\",CEND, \"\\n\")\n",
        "        element_novo = elemento\n",
        "      \n",
        "      pop_mutacao.append(elemento)\n",
        "\n",
        "\n",
        "    print(\"População depois da Mutação: \\n\", pop_mutacao, \"\\n\")\n",
        "\n",
        "    i += 1\n",
        "\n",
        "    pop_testada = pop_mutacao\n",
        "\n",
        "    # Printar os tabuleiros finais\n",
        "    print(CBOLD,CGREEN,\"Tabuleiros da Poupulação final dessa geração: \\n\", CEND)\n",
        "    for elemento in pop_testada:\n",
        "      tab = interpreta_como_tabuleiro(tabuleiro, elemento)\n",
        "      valor_tab = objetivo(tabuleiro, elemento)\n",
        "      print(tab,\" Valor: \", valor_tab, \"\\n\")\n",
        "\n",
        "\n",
        "    \n",
        "\n",
        "\n",
        "main()\n"
      ],
      "execution_count": null,
      "outputs": []
    },
    {
      "cell_type": "markdown",
      "metadata": {
        "id": "-6A003Vp6rbE"
      },
      "source": [
        "## Execução e Prints"
      ]
    },
    {
      "cell_type": "code",
      "metadata": {
        "id": "FHOjlHPc6ypJ",
        "outputId": "5fed8934-d81f-432c-ed2c-cf613caf26c8",
        "colab": {
          "base_uri": "https://localhost:8080/",
          "height": 408
        }
      },
      "source": [
        "# Instancia o tabuleiro inicial apenas com os valores fixos preenchidos e determina a quantidade de variaveis possiveis\n",
        "tabuleiro, num_variaveis = preenche_fixos(tabuleiro)\n",
        "print(\"Tabuleiro inicial: \\n\",tabuleiro, \"\\n\")\n",
        "print(\"Número de variáveis:\",num_variaveis, \"\\n\")\n",
        "\n",
        "# Define o numero N de elementos que uma população inicial deve ter e a cria\n",
        "N = 4\n",
        "pop_init = pop_inicial(N, num_variaveis)\n",
        "print(\"População inicial: \\n\", pop_init, \"\\n\")\n",
        "\n",
        "pop_intermed = pop_intermediaria(pop_init)\n",
        "print(\"População intermediária: \\n\", pop_intermed, \"\\n\")\n",
        "\n",
        "\n",
        "crossover([3, 4, 1, 2, 1, 4, 1], [4, 4, 4, 3, 3, 1, 4],3)\n",
        "\n",
        "\n",
        "mutacao([3, 4, 1, 2, 1, 4, 1],2)"
      ],
      "execution_count": 13,
      "outputs": [
        {
          "output_type": "stream",
          "text": [
            "Tabuleiro inicial: \n",
            " [[3. 0. 0. 2.]\n",
            " [0. 1. 4. 0.]\n",
            " [1. 2. 0. 4.]\n",
            " [0. 0. 2. 1.]] \n",
            "\n",
            "Número de variáveis: 7 \n",
            "\n",
            "População inicial: \n",
            " [[4, 3, 3, 4, 1, 4, 2], [4, 2, 3, 1, 3, 1, 4], [2, 4, 4, 4, 3, 2, 1], [1, 1, 2, 1, 3, 4, 4]] \n",
            "\n",
            "Roleta: \n",
            " [10, 20, 27, 38] \n",
            "\n",
            "Valores Sorteados: \n",
            " [18.485146205116706, 18.024252480481376, 9.959086383507435, 34.742379714593234] \n",
            "\n",
            "População intermediária: \n",
            " [[4, 2, 3, 1, 3, 1, 4], [4, 2, 3, 1, 3, 1, 4], [4, 3, 3, 4, 1, 4, 2], [1, 1, 2, 1, 3, 4, 4]] \n",
            "\n",
            "cortes [1, 3, 6, 'fim']\n",
            "Genes mutados: [5, 6]\n"
          ],
          "name": "stdout"
        },
        {
          "output_type": "execute_result",
          "data": {
            "text/plain": [
              "[3, 4, 1, 2, 1, 1, 4]"
            ]
          },
          "metadata": {
            "tags": []
          },
          "execution_count": 13
        }
      ]
    },
    {
      "cell_type": "code",
      "metadata": {
        "id": "DeQrafVt67ce"
      },
      "source": [
        ""
      ],
      "execution_count": null,
      "outputs": []
    }
  ]
}